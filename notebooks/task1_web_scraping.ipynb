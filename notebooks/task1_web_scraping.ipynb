{
 "cells": [
  {
   "cell_type": "code",
   "execution_count": 1,
   "id": "c190da35",
   "metadata": {},
   "outputs": [
    {
     "name": "stdout",
     "output_type": "stream",
     "text": [
      "Collecting google-play-scraper\n",
      "  Using cached google_play_scraper-1.2.7-py3-none-any.whl.metadata (50 kB)\n",
      "Using cached google_play_scraper-1.2.7-py3-none-any.whl (28 kB)\n",
      "Installing collected packages: google-play-scraper\n",
      "Successfully installed google-play-scraper-1.2.7\n"
     ]
    },
    {
     "name": "stderr",
     "output_type": "stream",
     "text": [
      "\n",
      "[notice] A new release of pip is available: 24.2 -> 25.1.1\n",
      "[notice] To update, run: python.exe -m pip install --upgrade pip\n"
     ]
    }
   ],
   "source": [
    "!pip install google-play-scraper"
   ]
  },
  {
   "cell_type": "code",
   "execution_count": 3,
   "id": "122e12c9",
   "metadata": {},
   "outputs": [
    {
     "name": "stdout",
     "output_type": "stream",
     "text": [
      "Collecting pandas\n",
      "  Downloading pandas-2.3.0-cp313-cp313-win_amd64.whl.metadata (19 kB)\n",
      "Collecting numpy>=1.26.0 (from pandas)\n",
      "  Using cached numpy-2.2.6-cp313-cp313-win_amd64.whl.metadata (60 kB)\n",
      "Requirement already satisfied: python-dateutil>=2.8.2 in c:\\users\\hp\\10 acadamy projects\\new folder (2)\\customer-experience-analytics\\.venv\\lib\\site-packages (from pandas) (2.9.0.post0)\n",
      "Collecting pytz>=2020.1 (from pandas)\n",
      "  Using cached pytz-2025.2-py2.py3-none-any.whl.metadata (22 kB)\n",
      "Collecting tzdata>=2022.7 (from pandas)\n",
      "  Using cached tzdata-2025.2-py2.py3-none-any.whl.metadata (1.4 kB)\n",
      "Requirement already satisfied: six>=1.5 in c:\\users\\hp\\10 acadamy projects\\new folder (2)\\customer-experience-analytics\\.venv\\lib\\site-packages (from python-dateutil>=2.8.2->pandas) (1.17.0)\n",
      "Downloading pandas-2.3.0-cp313-cp313-win_amd64.whl (11.0 MB)\n",
      "   ---------------------------------------- 0.0/11.0 MB ? eta -:--:--\n",
      "    --------------------------------------- 0.3/11.0 MB ? eta -:--:--\n",
      "   ------ --------------------------------- 1.8/11.0 MB 7.6 MB/s eta 0:00:02\n",
      "   --------- ------------------------------ 2.6/11.0 MB 8.8 MB/s eta 0:00:01\n",
      "   ------------ --------------------------- 3.4/11.0 MB 5.1 MB/s eta 0:00:02\n",
      "   --------------- ------------------------ 4.2/11.0 MB 4.6 MB/s eta 0:00:02\n",
      "   ----------------- ---------------------- 4.7/11.0 MB 4.3 MB/s eta 0:00:02\n",
      "   ------------------- -------------------- 5.2/11.0 MB 3.9 MB/s eta 0:00:02\n",
      "   ------------------------ --------------- 6.8/11.0 MB 4.4 MB/s eta 0:00:01\n",
      "   ------------------------------- -------- 8.7/11.0 MB 4.8 MB/s eta 0:00:01\n",
      "   ---------------------------------- ----- 9.4/11.0 MB 5.0 MB/s eta 0:00:01\n",
      "   ---------------------------------------- 11.0/11.0 MB 5.1 MB/s eta 0:00:00\n",
      "Using cached numpy-2.2.6-cp313-cp313-win_amd64.whl (12.6 MB)\n",
      "Using cached pytz-2025.2-py2.py3-none-any.whl (509 kB)\n",
      "Using cached tzdata-2025.2-py2.py3-none-any.whl (347 kB)\n",
      "Installing collected packages: pytz, tzdata, numpy, pandas\n",
      "Successfully installed numpy-2.2.6 pandas-2.3.0 pytz-2025.2 tzdata-2025.2\n"
     ]
    },
    {
     "name": "stderr",
     "output_type": "stream",
     "text": [
      "\n",
      "[notice] A new release of pip is available: 24.2 -> 25.1.1\n",
      "[notice] To update, run: python.exe -m pip install --upgrade pip\n"
     ]
    }
   ],
   "source": [
    "!pip install pandas"
   ]
  },
  {
   "cell_type": "code",
   "execution_count": 4,
   "id": "859898be",
   "metadata": {},
   "outputs": [],
   "source": [
    "from google_play_scraper import reviews, Sort\n",
    "import pandas as pd\n",
    "from datetime import datetime"
   ]
  },
  {
   "cell_type": "markdown",
   "id": "637b25cd",
   "metadata": {},
   "source": [
    "# Define bank apps with their correct app IDs"
   ]
  },
  {
   "cell_type": "code",
   "execution_count": 5,
   "metadata": {},
   "outputs": [],
   "source": [
    "# Step 3: Define bank apps with their correct app IDs\n",
    "banks = [\n",
    "    {'app_id': 'com.combanketh.mobilebanking', 'name': 'Commercial Bank of Ethiopia'},\n",
    "    {'app_id': 'com.boa.boaMobileBanking', 'name': 'Bank of Abyssinia'},\n",
    "    {'app_id': 'com.cr2.amolelight', 'name': 'Dashen Bank'}\n",
    "]\n"
   ]
  },
  {
   "cell_type": "code",
   "execution_count": 6,
   "id": "f6b5d9fe",
   "metadata": {},
   "outputs": [],
   "source": [
    "def get_reviews_for_bank(app_id, bank_name, count=1000):\n",
    "    all_reviews = []\n",
    "    batch_size = 200\n",
    "    \n",
    "    for _ in range(0, count, batch_size):\n",
    "        revs, _ = reviews(\n",
    "            app_id,\n",
    "            lang=None,        # all languages\n",
    "            sort=Sort.NEWEST,\n",
    "            count=batch_size,\n",
    "            filter_score_with=None\n",
    "        )\n",
    "        \n",
    "        for r in revs:\n",
    "            all_reviews.append({\n",
    "                'review': r['content'],\n",
    "                'rating': r['score'],\n",
    "                'date': r['at'].strftime('%Y-%m-%d'),\n",
    "                'bank': bank_name,\n",
    "                'source': 'Google Play'\n",
    "            })\n",
    "        \n",
    "        if len(revs) < batch_size:\n",
    "            break\n",
    "    \n",
    "    return all_reviews\n"
   ]
  },
  {
   "cell_type": "markdown",
   "id": "aa5c2092",
   "metadata": {},
   "source": [
    "# Collect reviews for all banks"
   ]
  },
  {
   "cell_type": "code",
   "execution_count": 7,
   "id": "3464ec22",
   "metadata": {},
   "outputs": [
    {
     "name": "stdout",
     "output_type": "stream",
     "text": [
      "Scraping reviews for Commercial Bank of Ethiopia...\n",
      "Collected 400 reviews for Commercial Bank of Ethiopia\n",
      "Scraping reviews for Bank of Abyssinia...\n",
      "Collected 400 reviews for Bank of Abyssinia\n",
      "Scraping reviews for Dashen Bank...\n",
      "Collected 400 reviews for Dashen Bank\n"
     ]
    }
   ],
   "source": [
    "# Step 5: Collect reviews for all banks\n",
    "all_reviews = []\n",
    "\n",
    "for bank in banks:\n",
    "    print(f\"Scraping reviews for {bank['name']}...\")\n",
    "    reviews_data = get_reviews_for_bank(bank['app_id'], bank['name'], count=400)\n",
    "    print(f\"Collected {len(reviews_data)} reviews for {bank['name']}\")\n",
    "    all_reviews.extend(reviews_data)\n"
   ]
  },
  {
   "cell_type": "code",
   "execution_count": 8,
   "id": "9e7fa2c0",
   "metadata": {},
   "outputs": [
    {
     "name": "stdout",
     "output_type": "stream",
     "text": [
      "Total reviews after cleaning: 485\n"
     ]
    }
   ],
   "source": [
    "# Step 6: Create DataFrame and clean data\n",
    "df = pd.DataFrame(all_reviews)\n",
    "\n",
    "# Remove duplicate reviews\n",
    "df.drop_duplicates(subset=['review'], inplace=True)\n",
    "\n",
    "# Drop missing values\n",
    "df.dropna(inplace=True)\n",
    "\n",
    "print(f\"Total reviews after cleaning: {len(df)}\")\n"
   ]
  },
  {
   "cell_type": "markdown",
   "id": "baa92051",
   "metadata": {},
   "source": [
    "# To remove the Emoji reviwes "
   ]
  },
  {
   "cell_type": "code",
   "execution_count": 9,
   "id": "26eefe1f",
   "metadata": {},
   "outputs": [],
   "source": [
    "import re\n",
    "\n",
    "def is_text_only_emoji(text):\n",
    "    # Remove whitespace\n",
    "    text = text.strip()\n",
    "    # Return True if there are no word characters (like a-z, A-Z, 0-9)\n",
    "    return not re.search(r'\\w', text)\n",
    "\n",
    "# Remove reviews with only emojis\n",
    "df = df[~df['review'].apply(is_text_only_emoji)]\n"
   ]
  },
  {
   "cell_type": "markdown",
   "id": "2b41d38a",
   "metadata": {},
   "source": [
    "# Save cleaned data to CSV"
   ]
  },
  {
   "cell_type": "code",
   "execution_count": 10,
   "id": "383ef006",
   "metadata": {},
   "outputs": [],
   "source": [
    "df.to_csv('bank_reviews.csv', index=False, encoding='utf-8-sig')\n"
   ]
  },
  {
   "cell_type": "code",
   "execution_count": null,
   "id": "22bdae37",
   "metadata": {},
   "outputs": [],
   "source": []
  }
 ],
 "metadata": {
  "kernelspec": {
   "display_name": ".venv",
   "language": "python",
   "name": "python3"
  },
  "language_info": {
   "codemirror_mode": {
    "name": "ipython",
    "version": 3
   },
   "file_extension": ".py",
   "mimetype": "text/x-python",
   "name": "python",
   "nbconvert_exporter": "python",
   "pygments_lexer": "ipython3",
   "version": "3.13.4"
  }
 },
 "nbformat": 4,
 "nbformat_minor": 5
}
